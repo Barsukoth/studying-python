{
  "nbformat": 4,
  "nbformat_minor": 0,
  "metadata": {
    "colab": {
      "name": "Алгоритм вычисления симметричности матриц.ipynb",
      "provenance": [],
      "authorship_tag": "ABX9TyP4HdOZj2tuL+BmrMkqahx+",
      "include_colab_link": true
    },
    "kernelspec": {
      "name": "python3",
      "display_name": "Python 3"
    }
  },
  "cells": [
    {
      "cell_type": "markdown",
      "metadata": {
        "id": "view-in-github",
        "colab_type": "text"
      },
      "source": [
        "<a href=\"https://colab.research.google.com/github/Barsukoth/studying-python/blob/main/third_year/ta/algorithm_symmetry_of_matrices.ipynb\" target=\"_parent\"><img src=\"https://colab.research.google.com/assets/colab-badge.svg\" alt=\"Open In Colab\"/></a>"
      ]
    },
    {
      "cell_type": "code",
      "metadata": {
        "id": "3Av2f46n3Yq1",
        "colab": {
          "base_uri": "https://localhost:8080/"
        },
        "outputId": "733a6f44-7068-40ac-83d9-9d32c06fd795"
      },
      "source": [
        "# Дана квадратная вещественная матрица размерности n\r\n",
        "# Является ли матрица симметричной относительно главной диагонали\r\n",
        "\r\n",
        "import random\r\n",
        "\r\n",
        "\r\n",
        "N = int(input('Введите количество столбцов и строк: '))\r\n",
        "arr = []\r\n",
        "sm_err = 0\r\n",
        "\r\n",
        "# Ввод матрицы\r\n",
        "for i in range(N):\r\n",
        "  arr_2 = [random.randint(0, 1) for i in range(N)]\r\n",
        "  arr.append(arr_2)\r\n",
        "\r\n",
        "# Вывод матрицы\r\n",
        "for i in range(N):\r\n",
        "  for j in range(N):\r\n",
        "    print(arr[i][j], end = ' ')\r\n",
        "  print()\r\n",
        "\r\n",
        "# Проверка симметричных элементов\r\n",
        "for i in range(N):\r\n",
        "  for j in range(N):\r\n",
        "    if arr[i][j] == arr[j][i]:\r\n",
        "      sm_err += 0\r\n",
        "    else:\r\n",
        "      sm_err += 1\r\n",
        "\r\n",
        "# Вывод результата\r\n",
        "if sm_err == 0:\r\n",
        "  print('\\nМатрица является симметричной относительно главной диагонали.')\r\n",
        "else:\r\n",
        "  print('\\nМатрица несимметрична.')"
      ],
      "execution_count": null,
      "outputs": [
        {
          "output_type": "stream",
          "text": [
            "Введите количество столбцов и строк: 3\n",
            "1 1 0 \n",
            "1 1 0 \n",
            "0 0 0 \n",
            "\n",
            "Матрица является симметричной относительно главной диагонали.\n"
          ],
          "name": "stdout"
        }
      ]
    }
  ]
}