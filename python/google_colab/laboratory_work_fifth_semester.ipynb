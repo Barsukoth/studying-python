{
  "nbformat": 4,
  "nbformat_minor": 0,
  "metadata": {
    "colab": {
      "name": "Лаб. работы Python 5-ый семестр, Барсуков А. группа 1231.ipynb",
      "provenance": [],
      "collapsed_sections": [],
      "toc_visible": true,
      "authorship_tag": "ABX9TyOXowNyFWqO898UFnVRC4HN",
      "include_colab_link": true
    },
    "kernelspec": {
      "name": "python3",
      "display_name": "Python 3"
    }
  },
  "cells": [
    {
      "cell_type": "markdown",
      "metadata": {
        "id": "view-in-github",
        "colab_type": "text"
      },
      "source": [
        "<a href=\"https://colab.research.google.com/github/Barsukoth/studying/blob/main/python/google_colab/laboratory_work_fifth_semester.ipynb\" target=\"_parent\"><img src=\"https://colab.research.google.com/assets/colab-badge.svg\" alt=\"Open In Colab\"/></a>"
      ]
    },
    {
      "cell_type": "markdown",
      "metadata": {
        "id": "GCdw8JqNhNMW"
      },
      "source": [
        "# Лабораторная работа 1\r\n",
        "Введение в язык программирования Python\r\n"
      ]
    },
    {
      "cell_type": "code",
      "metadata": {
        "id": "eTRyhHIdAUHj",
        "colab": {
          "base_uri": "https://localhost:8080/"
        },
        "outputId": "76c1236e-6e6d-4602-a89e-fe16de98a2c8"
      },
      "source": [
        "# Вариант 6\n",
        "\n",
        "personName = input('Ваше имя? ')\n",
        "favoriteSubject = input('Какой Ваш любимый предмет в школе? ')\n",
        "studiesAt = int(input('В каком классе Вы учитесь? (Вводить только целые числа!) '))\n",
        "\n",
        "print('\\nВаше имя:', personName)\n",
        "print('Ваш любимый предмет в школе:', favoriteSubject)\n",
        "print('Вы учитесь в классе номер', studiesAt)\n"
      ],
      "execution_count": null,
      "outputs": [
        {
          "output_type": "stream",
          "text": [
            "Ваше имя? Андрей\n",
            "Какой Ваш любимый предмет в школе? Биология\n",
            "В каком классе Вы учитесь? (Вводить только целые числа!) 8\n",
            "\n",
            "Ваше имя: Андрей\n",
            "Ваш любимый предмет в школе: Биология\n",
            "Вы учитесь в классе номер 8\n"
          ],
          "name": "stdout"
        }
      ]
    },
    {
      "cell_type": "markdown",
      "metadata": {
        "id": "9DsjprxXhYOx"
      },
      "source": [
        "# Лабораторная работа 2\r\n",
        " Математические операции в Python"
      ]
    },
    {
      "cell_type": "markdown",
      "metadata": {
        "id": "zHo5R1W5GLTI"
      },
      "source": [
        "\n",
        "x = 1,13; y = -5,75; z = 2,2\n",
        "\n",
        "\n",
        "\n",
        "\n",
        "\n"
      ]
    },
    {
      "cell_type": "code",
      "metadata": {
        "id": "gj-sy5kZK-i8",
        "colab": {
          "base_uri": "https://localhost:8080/"
        },
        "outputId": "a59f5c5e-c338-4039-b33c-a4741efcfd06"
      },
      "source": [
        "# Вариант 6\n",
        "\n",
        "# Задание №1. Формула кинетической энергии.\n",
        "\n",
        "# Было интересно сделать определение и перевод единицы измерения скорости, поэтому пользовался условным оператором,\n",
        "# с которыми нас знакомили ещё в на втором курсе на предмете \"Основы программирования и алгоритмизации\" (да и в школе чет тоже ковырялись в Pascal'е)\n",
        "\n",
        "haveError = 0 # Наличие ошибок: нет\n",
        "m = int(input('Масса тела (кг): '))\n",
        "vDef = int(input('Скорость будет в: км/ч - 1; м/с - 0? ')) # Определение единицы измерения скорости\n",
        "\n",
        "if vDef == 0: # Проверка единицы измерения скорости\n",
        "  v = float(input('Скорость тела (м/с): '))\n",
        "elif vDef == 1:\n",
        "  vKm = int(input('Скорость тела (км/ч): '))\n",
        "  v = vKm * 1000 / 3600 # Переводим км/ч в м/с\n",
        "  print ('Скорость тела по СИ: {0:.2f}'.format(v))\n",
        "else: \n",
        "  haveError = 1\n",
        "\n",
        "if haveError == 0: # Проверка на наличие ошибок\n",
        "  Ek = (m * v ** 2) / 2 # формула кинетической энергии\n",
        "  print('\\nКинетическая энергия тела: {0:.4f}'.format(Ek))\n",
        "else:\n",
        "  print('\\nОшибка: Вы ввели неверное значение для определения единицы измерения скорости.')"
      ],
      "execution_count": 21,
      "outputs": [
        {
          "output_type": "stream",
          "text": [
            "Масса тела (кг): 61\n",
            "Скорость будет в: км/ч - 1; м/с - 0? 1\n",
            "Скорость тела (км/ч): 15\n",
            "Скорость тела по СИ: 4.17\n",
            "\n",
            "Кинетическая энергия тела: 529.5139\n"
          ],
          "name": "stdout"
        }
      ]
    },
    {
      "cell_type": "code",
      "metadata": {
        "id": "MXoqnBJqOQlG",
        "colab": {
          "base_uri": "https://localhost:8080/"
        },
        "outputId": "40430578-bf2e-4fc1-f469-8fdfa0fefde0"
      },
      "source": [
        "# Задание №2. Работа с тригонометрическими функциями.\n",
        "\n",
        "import math\n",
        "\n",
        "x = float(1.13)\n",
        "y = float(-5.75)\n",
        "z = float(2.2)\n",
        "cosX = math.cos(x)\n",
        "sinY = math.sin(y)\n",
        "tgZ = math.tan(z)\n",
        "\n",
        "print('x =', x)\n",
        "print('y =', y)\n",
        "print('z =', z)\n",
        "print('\\ncos(x) = {0:.3f}'.format(cosX))\n",
        "print('sin(y) = {0:.3f}'.format(sinY))\n",
        "print('tg(z) = {0:.3f}'.format(tgZ))\n"
      ],
      "execution_count": null,
      "outputs": [
        {
          "output_type": "stream",
          "text": [
            "x = 1.13\n",
            "y = -5.75\n",
            "z = 2.2\n",
            "\n",
            "cos(x) = 0.427\n",
            "sin(y) = 0.508\n",
            "tg(z) = -1.374\n"
          ],
          "name": "stdout"
        }
      ]
    },
    {
      "cell_type": "markdown",
      "metadata": {
        "id": "T20Z0-Agdeki"
      },
      "source": [
        "# Лабораторная работа 3\r\n",
        "Структура ветвление в Python"
      ]
    },
    {
      "cell_type": "code",
      "metadata": {
        "colab": {
          "base_uri": "https://localhost:8080/"
        },
        "id": "hsjh6-wte-wd",
        "outputId": "fba21914-1128-4bb2-e275-013367aafa5f"
      },
      "source": [
        "# Вариант 6\r\n",
        "\r\n",
        "# Вывести на экран синус максимального из 3 заданных чисел\r\n",
        "\r\n",
        "import math\r\n",
        "\r\n",
        "haveError = 0\r\n",
        "\r\n",
        "print('Введите 3 числа: ')\r\n",
        "a = int(input())\r\n",
        "b = int(input())\r\n",
        "c = int(input())\r\n",
        "print('\\nПоиск максимального числа и вычисление синуса...')\r\n",
        "\r\n",
        "# В случае введённых двух и более максимальных чисел, будет выведено первое введённое\r\n",
        "if a >= b and a >= c:\r\n",
        "  sinNum = math.sin(a)\r\n",
        "  maxNum = a\r\n",
        "elif b >= a and b >= c:\r\n",
        "  sinNum = math.sin(b)\r\n",
        "  maxNum = b\r\n",
        "elif c >= a and c >= b:\r\n",
        "  sinNum = math.sin(c)\r\n",
        "  maxNum = c\r\n",
        "else:\r\n",
        "  haveError = 1\r\n",
        "\r\n",
        "if haveError == 0:\r\n",
        "  print('Sin(', maxNum, ') = {0:.3f}'.format(sinNum))\r\n",
        "else:\r\n",
        "  print('Возникла ошибка, повторите попытку.')"
      ],
      "execution_count": 20,
      "outputs": [
        {
          "output_type": "stream",
          "text": [
            "Введите 3 числа: \n",
            "75\n",
            "-30\n",
            "30\n",
            "\n",
            "Поиск максимального числа и вычисление синуса...\n",
            "Sin( 75 ) = -0.388\n"
          ],
          "name": "stdout"
        }
      ]
    },
    {
      "cell_type": "markdown",
      "metadata": {
        "id": "CAWh7UGR48Km"
      },
      "source": [
        "# Лабораторная работа 4\r\n",
        "Работа с циклами в Python\r\n"
      ]
    },
    {
      "cell_type": "code",
      "metadata": {
        "colab": {
          "base_uri": "https://localhost:8080/"
        },
        "id": "gi50Rkyx5EbR",
        "outputId": "d09a86db-f218-4a7c-b5fb-3d7b1ff20059"
      },
      "source": [
        "# Вариант 6\r\n",
        "\r\n",
        "# Задание №1. Найти сумму квадратов всех целых чисел от a до 50 (значение a вводится с клавиатуры; 0 ≤ a ≤ 50)\r\n",
        "# Решить задачу используя циклическую конструкцию for\r\n",
        "\r\n",
        "\r\n",
        "haveError = 0\r\n",
        "\r\n",
        "a = int(input('Введите число a: '))\r\n",
        "# Проверяем, удовлетворяет ли a диапазону от 0 до 50\r\n",
        "if a <= 50 and a >= 0:\r\n",
        "  numberA = a\r\n",
        "  n = 51 - a\r\n",
        "  Sum = 0\r\n",
        "else:\r\n",
        "  haveError = 1 # ошибка = 1, значит a не удовлетворяет диапазону\r\n",
        "\r\n",
        "# Складываем квадрат числа a, после чего увеличиваем a на единицу n раз\r\n",
        "for i in range(n):\r\n",
        "  Sum += a**2\r\n",
        "  a += 1\r\n",
        "\r\n",
        "if haveError == 1:\r\n",
        "  print('Число a не удовлетворяет заданному диапазону от 0 до 50, попробуйте снова.')\r\n",
        "else:\r\n",
        "  print('Сумма квадратов всех целых чисел от ', numberA, ' до 50 = ', Sum)"
      ],
      "execution_count": 3,
      "outputs": [
        {
          "output_type": "stream",
          "text": [
            "Введите число a: 37\n",
            "Сумма квадратов всех целых чисел от  37  до 50 =  26719\n"
          ],
          "name": "stdout"
        }
      ]
    },
    {
      "cell_type": "code",
      "metadata": {
        "colab": {
          "base_uri": "https://localhost:8080/"
        },
        "id": "mU8PQIrV8e-j",
        "outputId": "e6776089-bf01-43ab-bb94-59a754e0ff5e"
      },
      "source": [
        "# Вариант 6\r\n",
        "\r\n",
        "# Задание №2. Дано целое число N (> 1). Найти наименьшее целое число K, при котором выполняется неравенство 5^K > N\r\n",
        "# Решить задачу используя циклическую конструкцию while\r\n",
        "\r\n",
        "haveError = 0\r\n",
        "\r\n",
        "N = int(input('Введите число N: '))\r\n",
        "K = 1\r\n",
        "\r\n",
        "if N > 1:\r\n",
        "  while 5**K < N:\r\n",
        "    K += 1\r\n",
        "else:\r\n",
        "  haveError = 1\r\n",
        "\r\n",
        "if haveError == 1:\r\n",
        "  print('Число N должно быть больше 1.')\r\n",
        "else:\r\n",
        "  print('Наименьшее K для неравества 5^K > ', N, ' - ', K)"
      ],
      "execution_count": 5,
      "outputs": [
        {
          "output_type": "stream",
          "text": [
            "Введите число N: 126\n",
            "Наименьшее K для неравества 5^K >  126  -  4\n"
          ],
          "name": "stdout"
        }
      ]
    },
    {
      "cell_type": "markdown",
      "metadata": {
        "id": "x9RkyjBYyn3V"
      },
      "source": [
        "# Лабораторная работа 5\r\n",
        "Работа со строками в Python"
      ]
    },
    {
      "cell_type": "code",
      "metadata": {
        "colab": {
          "base_uri": "https://localhost:8080/"
        },
        "id": "tjZF-zes1Je5",
        "outputId": "22216cec-8ce9-4ce2-a7f5-8577c83fa90c"
      },
      "source": [
        "# Вариант 6\r\n",
        "\r\n",
        "# В строке удалить все буквы \"а\" и подсчитать количество удаленных символов.\r\n",
        "\r\n",
        "string = input('Введите строку: ')\r\n",
        "stringWithoutA = ''\r\n",
        "sumA = 0\r\n",
        "\r\n",
        "for i in range(len(string)):\r\n",
        "  if string[i] != 'а':\r\n",
        "    stringWithoutA += string[i]\r\n",
        "  else:\r\n",
        "    sumA += 1\r\n",
        "\r\n",
        "if sumA == 0:\r\n",
        "  print('\\nБуквы \"а\" в строке нет:\\n', stringWithoutA)\r\n",
        "else:\r\n",
        "  print('\\nНайдено и удалено ', sumA, ' букв(-а/-ы) \"а\", теперь строка имеет следующий вид:\\n \\n', stringWithoutA)"
      ],
      "execution_count": 19,
      "outputs": [
        {
          "output_type": "stream",
          "text": [
            "Введите строку: «Ты вот, юнец, знaл, что если неправильно слово \"сосиски\" скaжешь, то у тебя все буквы \"a\" пропaдут из речи?» — спросил Петрович после долгой пaузы.  «Сасиски — ответил я — слушай, да что ты всё про сосиски да про сосиски, давай я тебе лучше расскажу, как акула ела бананы на правом травном материке!» – произошло что-то страшное… (А. Барсуков)\n",
            "\n",
            "Найдено и удалено  21  букв(-а/-ы) \"а\", теперь строка имеет следующий вид:\n",
            " \n",
            " «Ты вот, юнец, знaл, что если непрвильно слово \"сосиски\" скaжешь, то у тебя все буквы \"a\" пропaдут из речи?» — спросил Петрович после долгой пaузы.  «Ссиски — ответил я — слушй, д что ты всё про сосиски д про сосиски, двй я тебе лучше рсскжу, кк кул ел бнны н првом трвном мтерике!» – произошло что-то стршное… (А. Брсуков)\n"
          ],
          "name": "stdout"
        }
      ]
    }
  ]
}