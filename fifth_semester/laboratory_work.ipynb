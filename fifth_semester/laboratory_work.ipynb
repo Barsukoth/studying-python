{
  "nbformat": 4,
  "nbformat_minor": 0,
  "metadata": {
    "colab": {
      "name": "Лаб. работы Python 5-ый семестр, Барсуков А. группа 1231.ipynb",
      "provenance": [],
      "collapsed_sections": [],
      "authorship_tag": "ABX9TyMhCkZplF/Qw34kwVe12WrF",
      "include_colab_link": true
    },
    "kernelspec": {
      "name": "python3",
      "display_name": "Python 3"
    }
  },
  "cells": [
    {
      "cell_type": "markdown",
      "metadata": {
        "id": "view-in-github",
        "colab_type": "text"
      },
      "source": [
        "<a href=\"https://colab.research.google.com/github/Barsukoth/studying-python/blob/main/fifth_semester/laboratory_work.ipynb\" target=\"_parent\"><img src=\"https://colab.research.google.com/assets/colab-badge.svg\" alt=\"Open In Colab\"/></a>"
      ]
    },
    {
      "cell_type": "markdown",
      "metadata": {
        "id": "GCdw8JqNhNMW"
      },
      "source": [
        "# Лабораторная работа 1\r\n",
        "Введение в язык программирования Python\r\n"
      ]
    },
    {
      "cell_type": "code",
      "metadata": {
        "id": "eTRyhHIdAUHj",
        "colab": {
          "base_uri": "https://localhost:8080/"
        },
        "outputId": "76c1236e-6e6d-4602-a89e-fe16de98a2c8"
      },
      "source": [
        "# Вариант 6\n",
        "\n",
        "person_name = input('Ваше имя? ')\n",
        "favorite_subject = input('Какой Ваш любимый предмет в школе? ')\n",
        "studies_at = int(\n",
        "    input('В каком классе Вы учитесь? (Вводить только целые числа!) '))\n",
        "\n",
        "print('\\nВаше имя:', person_name)\n",
        "print('Ваш любимый предмет в школе:', favorite_subject)\n",
        "print('Вы учитесь в классе номер', studies_at)\n"
      ],
      "execution_count": null,
      "outputs": [
        {
          "output_type": "stream",
          "text": [
            "Ваше имя? Андрей\n",
            "Какой Ваш любимый предмет в школе? Биология\n",
            "В каком классе Вы учитесь? (Вводить только целые числа!) 8\n",
            "\n",
            "Ваше имя: Андрей\n",
            "Ваш любимый предмет в школе: Биология\n",
            "Вы учитесь в классе номер 8\n"
          ],
          "name": "stdout"
        }
      ]
    },
    {
      "cell_type": "markdown",
      "metadata": {
        "id": "9DsjprxXhYOx"
      },
      "source": [
        "# Лабораторная работа 2\r\n",
        " Математические операции в Python"
      ]
    },
    {
      "cell_type": "markdown",
      "metadata": {
        "id": "zHo5R1W5GLTI"
      },
      "source": [
        "\n",
        "x = 1,13; y = -5,75; z = 2,2\n",
        "\n",
        "\n",
        "\n",
        "\n",
        "\n"
      ]
    },
    {
      "cell_type": "code",
      "metadata": {
        "id": "gj-sy5kZK-i8",
        "colab": {
          "base_uri": "https://localhost:8080/"
        },
        "outputId": "a59f5c5e-c338-4039-b33c-a4741efcfd06"
      },
      "source": [
        "# Вариант 6\n",
        "\n",
        "# Задание №1. Формула кинетической энергии.\n",
        "\n",
        "have_err = 0 \n",
        "m = int(input('Масса тела (кг): '))\n",
        "v_def = int(input('Скорость будет в: км/ч - 1; м/с - 0? ')) \n",
        "\n",
        "# Проверка единицы измерения скорости\n",
        "if v_def == 0:\n",
        "  v = float(input('Скорость тела (м/с): '))\n",
        "elif v_def == 1:\n",
        "  v_km = int(input('Скорость тела (км/ч): '))\n",
        "  v = v_km*1000/3600\n",
        "  print ('Скорость тела по СИ: {0:.2f}'.format(v))\n",
        "else: \n",
        "  have_err = 1\n",
        "\n",
        "if have_err == 0: \n",
        "  Ek = (m*v**2)/2\n",
        "  print('\\nКинетическая энергия тела: {0:.4f}'.format(Ek))\n",
        "else:\n",
        "  print('\\nОшибка: Вы ввели неверное значение для определения единицы измерения скорости.')"
      ],
      "execution_count": null,
      "outputs": [
        {
          "output_type": "stream",
          "text": [
            "Масса тела (кг): 61\n",
            "Скорость будет в: км/ч - 1; м/с - 0? 1\n",
            "Скорость тела (км/ч): 15\n",
            "Скорость тела по СИ: 4.17\n",
            "\n",
            "Кинетическая энергия тела: 529.5139\n"
          ],
          "name": "stdout"
        }
      ]
    },
    {
      "cell_type": "code",
      "metadata": {
        "id": "MXoqnBJqOQlG",
        "colab": {
          "base_uri": "https://localhost:8080/"
        },
        "outputId": "40430578-bf2e-4fc1-f469-8fdfa0fefde0"
      },
      "source": [
        "# Задание №2. Работа с тригонометрическими функциями.\n",
        "\n",
        "import math\n",
        "\n",
        "x = float(1.13)\n",
        "y = float(-5.75)\n",
        "z = float(2.2)\n",
        "cos_x = math.cos(x)\n",
        "sin_y = math.sin(y)\n",
        "tg_z = math.tan(z)\n",
        "\n",
        "print('x =', x)\n",
        "print('y =', y)\n",
        "print('z =', z)\n",
        "print('\\ncos(x) = {0:.3f}'.format(cos_x))\n",
        "print('sin(y) = {0:.3f}'.format(sin_y))\n",
        "print('tg(z) = {0:.3f}'.format(tg_z))\n"
      ],
      "execution_count": null,
      "outputs": [
        {
          "output_type": "stream",
          "text": [
            "x = 1.13\n",
            "y = -5.75\n",
            "z = 2.2\n",
            "\n",
            "cos(x) = 0.427\n",
            "sin(y) = 0.508\n",
            "tg(z) = -1.374\n"
          ],
          "name": "stdout"
        }
      ]
    },
    {
      "cell_type": "markdown",
      "metadata": {
        "id": "T20Z0-Agdeki"
      },
      "source": [
        "# Лабораторная работа 3\r\n",
        "Структура ветвление в Python"
      ]
    },
    {
      "cell_type": "code",
      "metadata": {
        "colab": {
          "base_uri": "https://localhost:8080/"
        },
        "id": "hsjh6-wte-wd",
        "outputId": "fba21914-1128-4bb2-e275-013367aafa5f"
      },
      "source": [
        "# Вариант 6\r\n",
        "\r\n",
        "# Вывести на экран синус максимального из 3 заданных чисел\r\n",
        "\r\n",
        "import math\r\n",
        "\r\n",
        "print('Введите 3 числа: ')\r\n",
        "a = int(input())\r\n",
        "b = int(input())\r\n",
        "c = int(input())\r\n",
        "print('\\nПоиск максимального числа и вычисление синуса...')\r\n",
        "\r\n",
        "# В случае введённых двух и более максимальных чисел, будет выведено первое\r\n",
        "# введённое\r\n",
        "if a >= b and a >= c:\r\n",
        "  sin_num = math.sin(a)\r\n",
        "  max_num = a\r\n",
        "elif b >= a and b >= c:\r\n",
        "  sin_num = math.sin(b)\r\n",
        "  max_num = b\r\n",
        "elif c >= a and c >= b:\r\n",
        "  sin_num = math.sin(c)\r\n",
        "  max_num = c\r\n",
        "\r\n",
        "\r\n",
        "print('Sin(', max_num, ') = {0:.3f}'.format(sin_num))"
      ],
      "execution_count": null,
      "outputs": [
        {
          "output_type": "stream",
          "text": [
            "Введите 3 числа: \n",
            "75\n",
            "-30\n",
            "30\n",
            "\n",
            "Поиск максимального числа и вычисление синуса...\n",
            "Sin( 75 ) = -0.388\n"
          ],
          "name": "stdout"
        }
      ]
    },
    {
      "cell_type": "markdown",
      "metadata": {
        "id": "CAWh7UGR48Km"
      },
      "source": [
        "# Лабораторная работа 4\r\n",
        "Работа с циклами в Python\r\n"
      ]
    },
    {
      "cell_type": "code",
      "metadata": {
        "colab": {
          "base_uri": "https://localhost:8080/"
        },
        "id": "gi50Rkyx5EbR",
        "outputId": "cc841f9c-eda2-4ff6-8a8e-554e0d0cf1fa"
      },
      "source": [
        "# Вариант 6\r\n",
        "\r\n",
        "# Задание №1. Найти сумму квадратов всех целых чисел от a до 50 (значение a\r\n",
        "# вводится с клавиатуры; 0 ≤ a ≤ 50). Решить задачу используя циклическую \r\n",
        "# конструкцию for\r\n",
        "\r\n",
        "\r\n",
        "have_err = 0\r\n",
        "\r\n",
        "a = int(input('Введите число a: '))\r\n",
        "\r\n",
        "# Проверяем, удовлетворяет ли a диапазону от 0 до 50\r\n",
        "if a <= 50 and a >= 0:\r\n",
        "  num_a = a\r\n",
        "  n = 51-a\r\n",
        "  sum_a = 0\r\n",
        "else:\r\n",
        "  have_err = 1 \r\n",
        "\r\n",
        "for i in range(n):\r\n",
        "  sum_a += a**2\r\n",
        "  a += 1\r\n",
        "\r\n",
        "if have_err == 1:\r\n",
        "  print('Число a не удовлетворяет заданному диапазону от 0 до 50, попробуйте снова.')\r\n",
        "else:\r\n",
        "  print('Сумма квадратов всех целых чисел от ', num_a, ' до 50 = ', sum_a)"
      ],
      "execution_count": 1,
      "outputs": [
        {
          "output_type": "stream",
          "text": [
            "Введите число a: 37\n",
            "Сумма квадратов всех целых чисел от  37  до 50 =  26719\n"
          ],
          "name": "stdout"
        }
      ]
    },
    {
      "cell_type": "code",
      "metadata": {
        "colab": {
          "base_uri": "https://localhost:8080/"
        },
        "id": "mU8PQIrV8e-j",
        "outputId": "e6776089-bf01-43ab-bb94-59a754e0ff5e"
      },
      "source": [
        "# Вариант 6\r\n",
        "\r\n",
        "# Задание №2. Дано целое число N (> 1). Найти наименьшее целое число K,\r\n",
        "# при котором выполняется неравенство 5^K > N. Решить задачу используя\r\n",
        "# циклическую конструкцию while\r\n",
        "\r\n",
        "have_err = 0\r\n",
        "\r\n",
        "N = int(input('Введите число N: '))\r\n",
        "K = 1\r\n",
        "\r\n",
        "# Проверка N и поиск наименьшего целого K\r\n",
        "if N > 1:\r\n",
        "  while 5**K < N:\r\n",
        "    K += 1\r\n",
        "else:\r\n",
        "  have_err = 1\r\n",
        "\r\n",
        "if have_err == 1:\r\n",
        "  print('Число N должно быть больше 1.')\r\n",
        "else:\r\n",
        "  print('Наименьшее K для неравества 5^K > ', N, ' - ', K)"
      ],
      "execution_count": null,
      "outputs": [
        {
          "output_type": "stream",
          "text": [
            "Введите число N: 126\n",
            "Наименьшее K для неравества 5^K >  126  -  4\n"
          ],
          "name": "stdout"
        }
      ]
    },
    {
      "cell_type": "markdown",
      "metadata": {
        "id": "x9RkyjBYyn3V"
      },
      "source": [
        "# Лабораторная работа 5\r\n",
        "Работа со строками в Python"
      ]
    },
    {
      "cell_type": "code",
      "metadata": {
        "colab": {
          "base_uri": "https://localhost:8080/"
        },
        "id": "tjZF-zes1Je5",
        "outputId": "75a51628-5bdb-4f77-d9ba-2bfcdd0323ba"
      },
      "source": [
        "# Вариант 6\r\n",
        "\r\n",
        "# В строке удалить все буквы \"а\" и подсчитать количество удаленных символов.\r\n",
        "\r\n",
        "some_str = input('Введите строку: ')\r\n",
        "str_without_a = ''\r\n",
        "sum_a = 0\r\n",
        "\r\n",
        "# Поиск буквы а в строке\r\n",
        "for i in range(len(some_str)):\r\n",
        "  if some_str[i] != 'а':\r\n",
        "    str_without_a += some_str[i]\r\n",
        "  else:\r\n",
        "    sum_a += 1\r\n",
        "\r\n",
        "if sum_a == 0:\r\n",
        "  print('\\nБуквы \"а\" в строке нет:\\n', str_without_a)\r\n",
        "else:\r\n",
        "  print('\\nНайдено и удалено ', sum_a,\r\n",
        "        ' букв(-а/-ы) \"а\", теперь строка имеет следующий вид:\\n \\n',\r\n",
        "        str_without_a)"
      ],
      "execution_count": 3,
      "outputs": [
        {
          "output_type": "stream",
          "text": [
            "Введите строку: «Ты вот, юнец, знaл, что если неправильно слово \"сосиски\" скaжешь, то у тебя все буквы \"a\" пропaдут из речи?» — спросил Петрович после долгой пaузы.  «Сасиски — ответил я — слушай, да что ты всё про сосиски да про сосиски, давай я тебе лучше расскажу, как акула ела бананы на поле травном!» – произошло что-то стрaшное… (А. Барсуков)\n",
            "\n",
            "Найдено и удалено  18  букв(-а/-ы) \"а\", теперь строка имеет следующий вид:\n",
            " \n",
            " «Ты вот, юнец, знaл, что если непрвильно слово \"сосиски\" скaжешь, то у тебя все буквы \"a\" пропaдут из речи?» — спросил Петрович после долгой пaузы.  «Ссиски — ответил я — слушй, д что ты всё про сосиски д про сосиски, двй я тебе лучше рсскжу, кк кул ел бнны н поле трвном!» – произошло что-то стрaшное… (А. Брсуков)\n"
          ],
          "name": "stdout"
        }
      ]
    },
    {
      "cell_type": "markdown",
      "metadata": {
        "id": "ud0zyNweE5dd"
      },
      "source": [
        "# Лабораторная работа 6\r\n",
        "Работа со списками. Операции над списками в Python"
      ]
    },
    {
      "cell_type": "code",
      "metadata": {
        "colab": {
          "base_uri": "https://localhost:8080/"
        },
        "id": "HFGpxE5qFNG-",
        "outputId": "2ff39465-ba35-44e2-a49e-043feeeaa355"
      },
      "source": [
        "# Вариант 6\r\n",
        "\r\n",
        "# Задание №1. Дан одномерный массив из 10 целых чисел. Найти максимальный\r\n",
        "# элемент и сравнить с ним остальные элементы. Вывести количество меньших\r\n",
        "# максимального и больших максимального элемента.\r\n",
        "\r\n",
        "import random\r\n",
        "\r\n",
        "# Ввод исходных данных\r\n",
        "from_n = int(input('Будет построен массив из 10 целых чисел в диапозоне от (введите число) '))\r\n",
        "to_n = int(input('до (введите число) '))\r\n",
        "arr = [random.randint(from_n, to_n) for i in range(10)]\r\n",
        "sum_max = 0\r\n",
        "sum_more_then = 0\r\n",
        "sum_less_then = 0\r\n",
        "\r\n",
        "# Вывод массива\r\n",
        "for i in range(10):\r\n",
        "  print(arr[i], end = ' ')\r\n",
        "\r\n",
        "# Проверка каждого элемента массива: больше, меньше либо элемент\r\n",
        "# равенмаксимальному\r\n",
        "for i in range(10):\r\n",
        "  if arr[i] > max(arr):\r\n",
        "    sum_more_then += 1\r\n",
        "  elif arr[i] < max(arr):\r\n",
        "    sum_less_then += 1\r\n",
        "  else:\r\n",
        "    sum_max += 1\r\n",
        "\r\n",
        "print('\\n\\nМаксимальный элемент в массиве = ', max(arr),\r\n",
        "      '. Максимальных элементов - ', sum_max, ', меньше, чем максимальный - ',\r\n",
        "      sum_less_then, ', а больше, чем максимальный - ', sum_more_then)"
      ],
      "execution_count": 6,
      "outputs": [
        {
          "output_type": "stream",
          "text": [
            "Будет построен массив из 10 целых чисел в диапозоне от (введите число) 0\n",
            "до (введите число) 25\n",
            "14 22 15 5 3 24 4 12 11 2 \n",
            "\n",
            "Максимальный элемент в массиве =  24 . Максимальных элементов -  1 , меньше, чем максимальный -  9 , а больше, чем максимальный -  0\n"
          ],
          "name": "stdout"
        }
      ]
    },
    {
      "cell_type": "code",
      "metadata": {
        "id": "LqrQKUJhFoMd",
        "colab": {
          "base_uri": "https://localhost:8080/"
        },
        "outputId": "6e1e59fc-5bb2-4fec-8167-1245c95bef99"
      },
      "source": [
        "# Вариант 6\r\n",
        "\r\n",
        "# Задание №2. Одномерный массив из 10-и целых чисел заполнить с клавиатуры,\r\n",
        "# определить сумму тех чисел, которые > 5\r\n",
        "\r\n",
        "arr = []\r\n",
        "sum_m = 0\r\n",
        "\r\n",
        "# Ввод массива с клавиатуры\r\n",
        "for i in range(10):\r\n",
        "  print('Введите ', i, ' элемент: ')\r\n",
        "  arr.append(int(input()))\r\n",
        "\r\n",
        "# Поиск элементов массива, что больше 5-ти и их сложение\r\n",
        "for i in range(10):\r\n",
        "  if arr[i] > 5:\r\n",
        "    sum_m += arr[i]\r\n",
        "\r\n",
        "print(sum_m, ' = сумма элементов, которые больше пяти, для массива: ', arr)"
      ],
      "execution_count": null,
      "outputs": [
        {
          "output_type": "stream",
          "text": [
            "Введите  0  элемент: \n",
            "27\n",
            "Введите  1  элемент: \n",
            "-8\n",
            "Введите  2  элемент: \n",
            "9\n",
            "Введите  3  элемент: \n",
            "5\n",
            "Введите  4  элемент: \n",
            "0\n",
            "Введите  5  элемент: \n",
            "6\n",
            "Введите  6  элемент: \n",
            "-22\n",
            "Введите  7  элемент: \n",
            "10\n",
            "Введите  8  элемент: \n",
            "3\n",
            "Введите  9  элемент: \n",
            "-1\n",
            "52  = сумма элементов, которые больше пяти, для массива:  [27, -8, 9, 5, 0, 6, -22, 10, 3, -1]\n"
          ],
          "name": "stdout"
        }
      ]
    },
    {
      "cell_type": "markdown",
      "metadata": {
        "id": "maka52bkYIvE"
      },
      "source": [
        "# Лабораторная работа 7\r\n",
        "Функции и процедуры в Python"
      ]
    },
    {
      "cell_type": "code",
      "metadata": {
        "colab": {
          "base_uri": "https://localhost:8080/"
        },
        "id": "ZWN3cpXnYkxS",
        "outputId": "16599136-9ba6-479d-d752-9b38fca049ec"
      },
      "source": [
        "# Вариант 6\r\n",
        "\r\n",
        "# Задание №1. Составить программу нахождения наибольшего общего делителя (НОД)\r\n",
        "# и наименьшего общего кратного (НОК) двух натуральных чисел НОК(А, В) =\r\n",
        "# (A*B)/НОД(A,B).\r\n",
        "\r\n",
        "import math\r\n",
        "\r\n",
        "A = int(input('Введите число A: '))\r\n",
        "B = int(input('Введите число B: '))\r\n",
        "GCD = math.gcd(A, B) # находим НОД через алгоритм Евклида\r\n",
        "LCM = (A*B)/GCD\r\n",
        "\r\n",
        "print('Наибольший общий делитель для чисел ', A, ' и ', B, ' = ', GCD,\r\n",
        "      '. А наименьшее общее кратное для тех же чисел = ', LCM, '.')"
      ],
      "execution_count": null,
      "outputs": [
        {
          "output_type": "stream",
          "text": [
            "Введите число A: 18\n",
            "Введите число B: 30\n",
            "Наибольший общий делитель для чисел  18  и  30  =  6 . А наименьшее общее кратное для тех же чисел =  90.0 .\n"
          ],
          "name": "stdout"
        }
      ]
    },
    {
      "cell_type": "code",
      "metadata": {
        "colab": {
          "base_uri": "https://localhost:8080/"
        },
        "id": "BMkX95h_a4yg",
        "outputId": "8da5214a-bf34-4b56-fc09-21d179edbe56"
      },
      "source": [
        "# Вариант 6\r\n",
        "\r\n",
        "# Задание №2. Составить программу вычисления площади выпуклого четырехугольника,\r\n",
        "# заданного длинами четырех сторон и диагонали\r\n",
        "\r\n",
        "# У нас есть выпуклый четырёхугольник ABCD со сторонами AB, BC, CD, DA и\r\n",
        "# диагональю, допустим, AC\r\n",
        "# Диагональ делит четырёхугольник на два треугольника, нам нужно найти площадь\r\n",
        "# каждого треугольника и сложить. Ещё нужно сделать проверку, существуют ли\r\n",
        "# вообще треугольники с такими сторонами.\r\n",
        "\r\n",
        "import math\r\n",
        "\r\n",
        "have_err = 0\r\n",
        "\r\n",
        "# функция для нахождения площади треугольника по формуле Герона\r\n",
        "def geron(a, b, c):\r\n",
        "  # Сумма длин двух любых сторон треугольника больше длины третьей стороны этого\r\n",
        "  # треугольника\r\n",
        "  if (c >= (a+b)) or (b >= (a+c)) or (a >= (b+c)):\r\n",
        "    global have_err\r\n",
        "    have_err = 1\r\n",
        "  else:\r\n",
        "    p = (a+b+c)/2\r\n",
        "    S = math.sqrt(p*(p-a)*(p-b)*(p-c))\r\n",
        "    return S\r\n",
        "\r\n",
        "# Ввод данных\r\n",
        "AB = float(input('Введите длину стороны AB: '))\r\n",
        "BC = float(input('Введите длину стороны BC: '))\r\n",
        "CD = float(input('Введите длину стороны CD: '))\r\n",
        "DA = float(input('Введите длину стороны DA: '))\r\n",
        "AC = float(input('Введите длину диагонали AC: '))\r\n",
        "\r\n",
        "S1 = geron(AB, BC, AC)\r\n",
        "S2 = geron(CD, DA, AC)\r\n",
        "\r\n",
        "if have_err == 1:\r\n",
        "  print('Такой фигуры не существует.')\r\n",
        "else:\r\n",
        "  S = S1+S2\r\n",
        "  print('\\nПлощадь четырёхугольника ABCD = {0:.2f}'.format(S))"
      ],
      "execution_count": null,
      "outputs": [
        {
          "output_type": "stream",
          "text": [
            "Введите длину стороны AB: 5\n",
            "Введите длину стороны BC: 5\n",
            "Введите длину стороны CD: 5\n",
            "Введите длину стороны DA: 5\n",
            "Введите длину диагонали AC: 7.01\n",
            "\n",
            "Площадь четырёхугольника ABCD = 25.00\n"
          ],
          "name": "stdout"
        }
      ]
    },
    {
      "cell_type": "markdown",
      "metadata": {
        "id": "fyzHQo0G1upe"
      },
      "source": [
        "# Лабораторная работа 8\r\n",
        "Работа с двумерными массивами"
      ]
    },
    {
      "cell_type": "code",
      "metadata": {
        "colab": {
          "base_uri": "https://localhost:8080/"
        },
        "id": "FqT5bTe02Dnc",
        "outputId": "8abc0a79-eed0-4e11-b4b3-3baf6a4cf81d"
      },
      "source": [
        "# Вариант 6\r\n",
        "\r\n",
        "# Задание №1. Дана целочисленная квадратная матрица. Найти в каждой строке\r\n",
        "# наибольший элемент и в каждом столбце наименьший. Вывести на экран.\r\n",
        "\r\n",
        "import random\r\n",
        "\r\n",
        "\r\n",
        "rows = 4\r\n",
        "cols = 4\r\n",
        "arr = []\r\n",
        "max_rows = []\r\n",
        "min_cols = []\r\n",
        "\r\n",
        "# Создание матрицы и вычисление максимальные числа в строках\r\n",
        "for i in range(rows):\r\n",
        "  arr_2 = [random.randint(-10, 10) for i in range(cols)]\r\n",
        "  max_rows.append(max(arr_2))\r\n",
        "  arr.append(arr_2)\r\n",
        "\r\n",
        "# Вывод массива\r\n",
        "print('Исходный массив: ')\r\n",
        "for i in range(rows):\r\n",
        "  for j in range(cols):\r\n",
        "    print(arr[i][j], end = ' ')\r\n",
        "  print()\r\n",
        "\r\n",
        "# Поиск минимального числа в столбцах\r\n",
        "for j in range(cols):\r\n",
        "    some_min = arr[0][j]\r\n",
        "    for i in range(rows):\r\n",
        "        if arr[i][j] < some_min:\r\n",
        "            some_min = arr[i][j]\r\n",
        "    min_cols.append(some_min)\r\n",
        "\r\n",
        "print('\\nМинимальные числа в столбцах: ', min_cols)\r\n",
        "print('Максимальные числа в строках: ', max_rows)"
      ],
      "execution_count": null,
      "outputs": [
        {
          "output_type": "stream",
          "text": [
            "Исходный массив: \n",
            "-7 -6 0 6 \n",
            "5 9 1 -2 \n",
            "-6 2 3 4 \n",
            "4 0 -9 5 \n",
            "\n",
            "Минимальные числа в столбцах:  [-7, -6, -9, -2]\n",
            "Максимальные числа в строках:  [6, 9, 4, 5]\n"
          ],
          "name": "stdout"
        }
      ]
    },
    {
      "cell_type": "code",
      "metadata": {
        "id": "jGGBCm3o2yFG",
        "colab": {
          "base_uri": "https://localhost:8080/"
        },
        "outputId": "c8eae2c3-9905-44fc-a6a5-c44c8b7fe46b"
      },
      "source": [
        "# Вариант 6\r\n",
        "\r\n",
        "# Задание №2. Дана действительная квадратная матрица порядка N (N — нечетное),\r\n",
        "# все элементы которой различны\r\n",
        "# Найти наибольший элемент среди стоящих на главной и побочной диагоналях и\r\n",
        "# поменять его местами с элементом, стоящим на пересечении этих диагоналей\r\n",
        "\r\n",
        "N = int(input('Введите количество столбцов и строк: '))\r\n",
        "\r\n",
        "# Проверка на нечётное число столбцов и строк\r\n",
        "if N%2 == 0:\r\n",
        "    print('Ошибка, число должно быть нечётным.')\r\n",
        "else:\r\n",
        "  diag_1 = []\r\n",
        "  diag_2 = []\r\n",
        "  arr = []\r\n",
        "\r\n",
        "  # Ввод матрицы\r\n",
        "  for i in range(N):\r\n",
        "    arr_2 = []\r\n",
        "    for j in range(N):\r\n",
        "      print('Введите [', i, ', ', j,\r\n",
        "            '] элемент (все элементы должны быть различны): ')\r\n",
        "      arr_2.append(int(input()))\r\n",
        "    arr.append(arr_2)\r\n",
        "\r\n",
        "\r\n",
        "  # Вывод матрицы\r\n",
        "  for i in range(N):\r\n",
        "    for j in range(N):\r\n",
        "      print(arr[i][j], end = ' ')\r\n",
        "    print()\r\n",
        "\r\n",
        "\r\n",
        "  # Определение диагоналей и числа на пересечении\r\n",
        "  for i in range(N):\r\n",
        "    for j in range(N):\r\n",
        "      if i == j:\r\n",
        "        diag_1.append(arr[i][j])\r\n",
        "      if j == (N - (i+1)):\r\n",
        "        diag_2.append(arr[i][j])\r\n",
        "  print('\\nДиагонали: ', diag_1, ', ', diag_2)\r\n",
        "\r\n",
        "  for elem_1 in diag_1:\r\n",
        "    for elem_2 in diag_2:\r\n",
        "      if elem_1 == elem_2:\r\n",
        "        print('Число на пересечении диагоналей: ', elem_1)\r\n",
        "\r\n",
        "\r\n",
        "  # Поиск наибольшего числа по диагонали\r\n",
        "  max_diag_1 = max(diag_1)\r\n",
        "  max_diag_2 = max(diag_2)\r\n",
        "  if max_diag_1 > max_diag_2:\r\n",
        "    max_diag = max_diag_1\r\n",
        "  if max_diag_2 > max_diag_1:\r\n",
        "    max_diag = max_diag_2\r\n",
        "  print('Наибольшее число по диагонали: ', max_diag)"
      ],
      "execution_count": null,
      "outputs": [
        {
          "output_type": "stream",
          "text": [
            "Введите количество столбцов и строк: 5\n",
            "Введите [ 0 ,  0 ] элемент (все элементы должны быть различны): \n",
            "31\n",
            "Введите [ 0 ,  1 ] элемент (все элементы должны быть различны): \n",
            "45\n",
            "Введите [ 0 ,  2 ] элемент (все элементы должны быть различны): \n",
            "3\n",
            "Введите [ 0 ,  3 ] элемент (все элементы должны быть различны): \n",
            "21\n",
            "Введите [ 0 ,  4 ] элемент (все элементы должны быть различны): \n",
            "32\n",
            "Введите [ 1 ,  0 ] элемент (все элементы должны быть различны): \n",
            "42\n",
            "Введите [ 1 ,  1 ] элемент (все элементы должны быть различны): \n",
            "6\n",
            "Введите [ 1 ,  2 ] элемент (все элементы должны быть различны): \n",
            "11\n",
            "Введите [ 1 ,  3 ] элемент (все элементы должны быть различны): \n",
            "29\n",
            "Введите [ 1 ,  4 ] элемент (все элементы должны быть различны): \n",
            "8\n",
            "Введите [ 2 ,  0 ] элемент (все элементы должны быть различны): \n",
            "41\n",
            "Введите [ 2 ,  1 ] элемент (все элементы должны быть различны): \n",
            "44\n",
            "Введите [ 2 ,  2 ] элемент (все элементы должны быть различны): \n",
            "8\n",
            "Введите [ 2 ,  3 ] элемент (все элементы должны быть различны): \n",
            "-5\n",
            "Введите [ 2 ,  4 ] элемент (все элементы должны быть различны): \n",
            "12\n",
            "Введите [ 3 ,  0 ] элемент (все элементы должны быть различны): \n",
            "13\n",
            "Введите [ 3 ,  1 ] элемент (все элементы должны быть различны): \n",
            "14\n",
            "Введите [ 3 ,  2 ] элемент (все элементы должны быть различны): \n",
            "15\n",
            "Введите [ 3 ,  3 ] элемент (все элементы должны быть различны): \n",
            "0\n",
            "Введите [ 3 ,  4 ] элемент (все элементы должны быть различны): \n",
            "34\n",
            "Введите [ 4 ,  0 ] элемент (все элементы должны быть различны): \n",
            "25\n",
            "Введите [ 4 ,  1 ] элемент (все элементы должны быть различны): \n",
            "38\n",
            "Введите [ 4 ,  2 ] элемент (все элементы должны быть различны): \n",
            "46\n",
            "Введите [ 4 ,  3 ] элемент (все элементы должны быть различны): \n",
            "7\n",
            "Введите [ 4 ,  4 ] элемент (все элементы должны быть различны): \n",
            "27\n",
            "31 45 3 21 32 \n",
            "42 6 11 29 8 \n",
            "41 44 8 -5 12 \n",
            "13 14 15 0 34 \n",
            "25 38 46 7 27 \n",
            "\n",
            "Диагонали:  [31, 6, 8, 0, 27] ,  [32, 29, 8, 14, 25]\n",
            "Число на пересечении диагоналей:  8\n",
            "Наибольшее число по диагонали:  32\n"
          ],
          "name": "stdout"
        }
      ]
    }
  ]
}