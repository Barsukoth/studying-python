{
  "nbformat": 4,
  "nbformat_minor": 0,
  "metadata": {
    "colab": {
      "name": "tasks_29_01.ipynb",
      "provenance": [],
      "authorship_tag": "ABX9TyMjS/YVUCXNCvDrzv8beJOt",
      "include_colab_link": true
    },
    "kernelspec": {
      "name": "python3",
      "display_name": "Python 3"
    }
  },
  "cells": [
    {
      "cell_type": "markdown",
      "metadata": {
        "id": "view-in-github",
        "colab_type": "text"
      },
      "source": [
        "<a href=\"https://colab.research.google.com/github/Barsukoth/studying-python/blob/main/fifth_semester/basics_of_programming/tasks_29_01.ipynb\" target=\"_parent\"><img src=\"https://colab.research.google.com/assets/colab-badge.svg\" alt=\"Open In Colab\"/></a>"
      ]
    },
    {
      "cell_type": "code",
      "metadata": {
        "colab": {
          "base_uri": "https://localhost:8080/"
        },
        "id": "rkW-pHFu79sk",
        "outputId": "4bc7f725-fbde-4b88-e30c-bb7507e2d42a"
      },
      "source": [
        "# Задача \"Знак числа\"\r\n",
        "\r\n",
        "# В математике функция sign(x) (знак числа) определена так:\r\n",
        "# sign(x) = 1, если x > 0,\r\n",
        "# sign(x) = -1, если x < 0,\r\n",
        "# sign(x) = 0, если x = 0.\r\n",
        "# Для данного числа x выведите значение sign(x). Эту задачу желательно\r\n",
        "# решить с использованием каскадных инструкций if... elif... else.\r\n",
        "\r\n",
        "\r\n",
        "x = int(input('x = '))\r\n",
        "\r\n",
        "if x > 0:\r\n",
        "  print('sign(x) = 1')\r\n",
        "elif x < 0:\r\n",
        "  print('sign(x) = -1')\r\n",
        "elif x == 0:\r\n",
        "  print('sign(x) = 0')"
      ],
      "execution_count": 58,
      "outputs": [
        {
          "output_type": "stream",
          "text": [
            "x = 24\n",
            "sign(x) = 1\n"
          ],
          "name": "stdout"
        }
      ]
    },
    {
      "cell_type": "code",
      "metadata": {
        "colab": {
          "base_uri": "https://localhost:8080/"
        },
        "id": "Scpbrrrp9BtC",
        "outputId": "7e6f038b-7286-4d7c-c4fc-60d0976ccf45"
      },
      "source": [
        "# Задача \"Шахматная доска\"\r\n",
        "\r\n",
        "# Заданы две клетки шахматной доски. Если они покрашены в один цвет, то\r\n",
        "# выведите слово YES, а если в разные цвета — то NO. Программа получает\r\n",
        "# на вход четыре числа от 1 до 8 каждое, задающие номер столбца и номер\r\n",
        "# строки сначала для первой клетки, потом для второй клетки.\r\n",
        "\r\n",
        "\r\n",
        "x1 = int(input('x1 = '))\r\n",
        "y1 = int(input('y1 = '))\r\n",
        "x2 = int(input('x2 = '))\r\n",
        "y2 = int(input('y2 = '))\r\n",
        "\r\n",
        "if 1 <= x1 <= 8 and 1 <= y1 <= 8 and 1 <= x2 <= 8 and 1 <= y2 <= 8:\r\n",
        "  if (x1+y1+x2+y2) % 2 == 0:\r\n",
        "    print('YES')\r\n",
        "  else:\r\n",
        "    print('NO')\r\n",
        "else:\r\n",
        "  print('Ошибка! Размер доски - 8 на 8. Введите координаты от 1 до 8.')"
      ],
      "execution_count": 59,
      "outputs": [
        {
          "output_type": "stream",
          "text": [
            "x1 = 8\n",
            "y1 = 8\n",
            "x2 = 1\n",
            "y2 = 1\n",
            "YES\n"
          ],
          "name": "stdout"
        }
      ]
    },
    {
      "cell_type": "code",
      "metadata": {
        "colab": {
          "base_uri": "https://localhost:8080/"
        },
        "id": "dniA89IV8WB9",
        "outputId": "81d66bee-deb7-418a-a8f8-6e4c23ca0401"
      },
      "source": [
        "# Задача \"Високосный год\"\r\n",
        "\r\n",
        "# Дано натуральное число. Требуется определить, является ли год с данным\r\n",
        "# номером високосным. Если год является високосным, то выведите YES, иначе\r\n",
        "# выведите NO. Напомним, что в соответствии с григорианским календарем,\r\n",
        "# год является високосным, если его номер кратен 4, но не кратен 100, а\r\n",
        "# также если он кратен 400.Дано натуральное число. Требуется определить,\r\n",
        "# является ли год с данным номером високосным. Если год является\r\n",
        "# високосным, то выведите YES, иначе выведите NO. Напомним, что в\r\n",
        "# соответствии с григорианским календарем, год является високосным, если\r\n",
        "# его номер кратен 4, но не кратен 100, а также если он кратен 400.\r\n",
        "\r\n",
        "\r\n",
        "year = int(input('Введите год: '))\r\n",
        "\r\n",
        "if year % 4 == 0 and year % 100 != 0 or year % 400 == 0:\r\n",
        "  print('По григорианскому календарю год является високосным.')\r\n",
        "else:\r\n",
        "  print('Год не является високосным по григорианскому календарю.')"
      ],
      "execution_count": 60,
      "outputs": [
        {
          "output_type": "stream",
          "text": [
            "Введите год: 2020\n",
            "По григорианскому календарю год является високосным.\n"
          ],
          "name": "stdout"
        }
      ]
    },
    {
      "cell_type": "code",
      "metadata": {
        "colab": {
          "base_uri": "https://localhost:8080/"
        },
        "id": "wDD9Nmf6-A__",
        "outputId": "6d8ebfbb-80ca-49ae-be12-45591bdc1262"
      },
      "source": [
        "# Задача \"Минимум из трёх чисел\"\r\n",
        "\r\n",
        "# Даны три целыъ числа. Выведите значение наименьшего из них.\r\n",
        "\r\n",
        "\r\n",
        "num_a = int(input('Введите первое число: '))\r\n",
        "num_b = int(input('Введите второе число: '))\r\n",
        "num_c = int(input('Введите третье число: '))\r\n",
        "\r\n",
        "# Если наименьших чисел несколько, будет выведено первое из них.\r\n",
        "if num_a <= num_b <= num_c:\r\n",
        "  print(num_a)\r\n",
        "elif num_b <= num_a <= num_c:\r\n",
        "  print(num_b)\r\n",
        "else:\r\n",
        "  print(num_c)"
      ],
      "execution_count": 62,
      "outputs": [
        {
          "output_type": "stream",
          "text": [
            "Введите первое число: 7\n",
            "Введите второе число: -7\n",
            "Введите третье число: 13\n",
            "-7\n"
          ],
          "name": "stdout"
        }
      ]
    },
    {
      "cell_type": "code",
      "metadata": {
        "colab": {
          "base_uri": "https://localhost:8080/"
        },
        "id": "5R3xl7rGDCP5",
        "outputId": "e109e51b-b934-4909-b9ec-60cf1fc19f3c"
      },
      "source": [
        "# Задача \"Сколько совпадает чисел\"\r\n",
        "\r\n",
        "# Даны три целых числа. Определите, сколько среди них совпадающих.\r\n",
        "# Программа должна вывести одно из чисел: 3 (если все совпадают),\r\n",
        "# 2 (если два совпадает) или 0 (если все числа различны).\r\n",
        "\r\n",
        "\r\n",
        "num_a = int(input('Введите первое число: '))\r\n",
        "num_b = int(input('Введите второе число: '))\r\n",
        "num_c = int(input('Введите третье число: '))\r\n",
        "\r\n",
        "if num_a == num_b == num_c:\r\n",
        "  print('3')\r\n",
        "elif num_a == num_b or num_b == num_c or num_c == num_a:\r\n",
        "  print('2')\r\n",
        "else:\r\n",
        "  print('0')"
      ],
      "execution_count": 63,
      "outputs": [
        {
          "output_type": "stream",
          "text": [
            "Введите первое число: 3\n",
            "Введите второе число: 0\n",
            "Введите третье число: 3\n",
            "2\n"
          ],
          "name": "stdout"
        }
      ]
    },
    {
      "cell_type": "code",
      "metadata": {
        "colab": {
          "base_uri": "https://localhost:8080/"
        },
        "id": "GE4cBYQdEaXf",
        "outputId": "9ae29501-147e-4988-e8df-5795dda5b122"
      },
      "source": [
        "# Задача \"Ход ладьи\"\r\n",
        "\r\n",
        "# Шахматная ладья ходит по горизонтали или вертикали. Даны две различные\r\n",
        "# клетки шахматной доски, определите, может ли ладья попасть с первой\r\n",
        "# клетки на вторую одним ходом. Программа получает на вход четыре числа\r\n",
        "# от 1 до 8 каждое, задающие номер столбца и номер строки сначала для\r\n",
        "# первой клетки, потом для второй клетки. Программа должна вывести YES,\r\n",
        "# если из первой клетки ходом ладьи можно попасть во вторую или NO\r\n",
        "# в противном случае.\r\n",
        "\r\n",
        "\r\n",
        "x1 = int(input('x1 = '))\r\n",
        "y1 = int(input('y1 = '))\r\n",
        "x2 = int(input('x2 = '))\r\n",
        "y2 = int(input('y2 = '))\r\n",
        "\r\n",
        "if 1 <= x1 <= 8 and 1 <= y1 <= 8 and 1 <= x2 <= 8 and 1 <= y2 <= 8:\r\n",
        "  if x1 == x2 and y1 == y2:\r\n",
        "    print('NO') # Не стой на месте!\r\n",
        "  elif x1 == x2 or y1 == y2:\r\n",
        "    print('YES')\r\n",
        "  else:\r\n",
        "    print('NO')\r\n",
        "else:\r\n",
        "  print('Ошибка! Размер доски - 8 на 8. Введите координаты от 1 до 8.')"
      ],
      "execution_count": 66,
      "outputs": [
        {
          "output_type": "stream",
          "text": [
            "x1 = 5\n",
            "y1 = 3\n",
            "x2 = 5\n",
            "y2 = 8\n",
            "YES\n"
          ],
          "name": "stdout"
        }
      ]
    },
    {
      "cell_type": "code",
      "metadata": {
        "colab": {
          "base_uri": "https://localhost:8080/"
        },
        "id": "W7_VZisALMd-",
        "outputId": "421f6806-73e8-4e39-c532-c55ea98f05ff"
      },
      "source": [
        "# Задача \"Шоколадка\"\r\n",
        "\r\n",
        "# Шоколадка имеет вид прямоугольника, разделенного на n×m долек.\r\n",
        "# Шоколадку можно один раз разломить по прямой на две части.\r\n",
        "# Определите, можно ли таким образом отломить от шоколадки часть,\r\n",
        "# состоящую ровно из k долек. Программа получает на вход три числа:\r\n",
        "# n, m, k и должна вывести YES или NO.\r\n",
        "\r\n",
        "\r\n",
        "n = int(input('Количество долек в ряду: '))\r\n",
        "m = int(input('Количество долек в столбце: '))\r\n",
        "k = int(input('Желаемое количество долек после разлома: '))\r\n",
        "\r\n",
        "if n*m < k:\r\n",
        "  print('NO') # В шоколадке нет столько долек :(\r\n",
        "else:\r\n",
        "  if k%n == 0 or k%m == 0:\r\n",
        "    print('YES')\r\n",
        "  else:\r\n",
        "    print('NO')"
      ],
      "execution_count": 68,
      "outputs": [
        {
          "output_type": "stream",
          "text": [
            "Введите количество долек в ряду: 5\n",
            "Введтие количество долек в столбце: 3\n",
            "Количество долек после разлома шоколадки: 6\n",
            "YES\n"
          ],
          "name": "stdout"
        }
      ]
    },
    {
      "cell_type": "code",
      "metadata": {
        "colab": {
          "base_uri": "https://localhost:8080/"
        },
        "id": "-7ACQzpAOPA6",
        "outputId": "4aa5f0e1-fe6f-4e3c-87a6-00861a4de555"
      },
      "source": [
        "# Задача \"Бассейн\"\r\n",
        "\r\n",
        "# Яша плавал в бассейне размером N × M метров и устал. В этот момент он\r\n",
        "# обнаружил, что находится на расстоянии x метров от одного из длинных\r\n",
        "# бортиков (не обязательно от ближайшего) и y метров от одного из\r\n",
        "# коротких бортиков. Какое минимальное расстояние должен проплыть Яша,\r\n",
        "# чтобы выбраться из бассейна на бортик? Программа получает на вход числа\r\n",
        "# N, M, x, y. Программа должна вывести число метров, которое нужно\r\n",
        "# проплыть Яше до бортика.\r\n",
        "\r\n",
        "N = int(input('Длина бассейна: '))\r\n",
        "M = int(input('Ширина бассейна: '))\r\n",
        "x = int(input('Расстояние до длинного бортика: '))\r\n",
        "y = int(input('Расстояние до короткого бортика: '))\r\n",
        "\r\n",
        "# Вычисление длинного и короткого бортика\r\n",
        "if N < M:\r\n",
        "  N, M = M, N\r\n",
        "\r\n",
        "# Вычисление наименьшего пути до длинного и короткого бортика\r\n",
        "if N/2 < x:\r\n",
        "  min_x = N-x\r\n",
        "else:\r\n",
        "  min_x = x\r\n",
        "if M/2 < y:\r\n",
        "  min_y = M-y\r\n",
        "else:\r\n",
        "  min_y = y\r\n",
        "\r\n",
        "if min_x < min_y:\r\n",
        "  print(min_x)\r\n",
        "else:\r\n",
        "  print(min_y)"
      ],
      "execution_count": 70,
      "outputs": [
        {
          "output_type": "stream",
          "text": [
            "Длина бассейна: 25\n",
            "Ширина бассейна: 30\n",
            "Расстояние до длинного бортика: 20\n",
            "Расстояние до короткого бортика: 12\n",
            "10\n"
          ],
          "name": "stdout"
        }
      ]
    },
    {
      "cell_type": "code",
      "metadata": {
        "id": "gyE4dPO6iRsA"
      },
      "source": [
        ""
      ],
      "execution_count": null,
      "outputs": []
    }
  ]
}