{
  "nbformat": 4,
  "nbformat_minor": 0,
  "metadata": {
    "colab": {
      "name": "Untitled0.ipynb",
      "provenance": [],
      "authorship_tag": "ABX9TyNzs+RFkBJdpRIY0pZaf+FU",
      "include_colab_link": true
    },
    "kernelspec": {
      "name": "python3",
      "display_name": "Python 3"
    }
  },
  "cells": [
    {
      "cell_type": "markdown",
      "metadata": {
        "id": "view-in-github",
        "colab_type": "text"
      },
      "source": [
        "<a href=\"https://colab.research.google.com/github/Barsukoth/studying-python/blob/main/fifth_semester/basics_of_programming/tasks_27_01.ipynb\" target=\"_parent\"><img src=\"https://colab.research.google.com/assets/colab-badge.svg\" alt=\"Open In Colab\"/></a>"
      ]
    },
    {
      "cell_type": "code",
      "metadata": {
        "colab": {
          "base_uri": "https://localhost:8080/"
        },
        "id": "fY81R_uUwKi-",
        "outputId": "2d706fd5-a1f0-4877-a787-0d5d84d18ddb"
      },
      "source": [
        "# Задача \"Сумма трех чисел\"\r\n",
        "# Напишите программу, которая считывает три числа и выводит их сумму\r\n",
        "\r\n",
        "first_number = int(input())\r\n",
        "second_number = int(input())\r\n",
        "third_number = int(input())\r\n",
        "\r\n",
        "print('Сумма трёх введёных чисел: ', first_number+second_number+third_number)"
      ],
      "execution_count": 2,
      "outputs": [
        {
          "output_type": "stream",
          "text": [
            "25\n",
            "75\n",
            "99\n",
            "Сумма трёх введёных чисел:  199\n"
          ],
          "name": "stdout"
        }
      ]
    },
    {
      "cell_type": "code",
      "metadata": {
        "colab": {
          "base_uri": "https://localhost:8080/"
        },
        "id": "_ROAWruCxpCA",
        "outputId": "8d28decd-84fa-49f7-a0b0-3d40831ba0f3"
      },
      "source": [
        "# Задача \"Площадь прямоугольного треугольника\"\r\n",
        "# Напишите программу, которая считывает длины двух катетов в прямоугольном \r\n",
        "# треугольнике и выводит его площадь\r\n",
        "\r\n",
        "b = int(input('Длина 1-го катета: '))\r\n",
        "h = int(input('Длина 2-го катета: '))\r\n",
        "\r\n",
        "print('Площадь треугольника = ',  b*h/2)"
      ],
      "execution_count": 27,
      "outputs": [
        {
          "output_type": "stream",
          "text": [
            "Длина 1-го катета: 5\n",
            "Длина 2-го катета: 8\n",
            "Площадь треугольника =  20.0\n"
          ],
          "name": "stdout"
        }
      ]
    },
    {
      "cell_type": "code",
      "metadata": {
        "colab": {
          "base_uri": "https://localhost:8080/"
        },
        "id": "bMLmroT_zmLo",
        "outputId": "a8f698db-6a5e-4a1e-d39b-476f2cfa1cd3"
      },
      "source": [
        "# Задача \"Дележ яблок\"\r\n",
        "# n школьников делят k яблк поровну, неделящийся остаток остаётся в корзинке.\r\n",
        "# Сколько яблок останется в корзинке, а сколько достанется каждому школьнику?\r\n",
        "\r\n",
        "n = int(input('Количество школьников: '))\r\n",
        "k = int(input('Количество яблок: '))\r\n",
        "\r\n",
        "print('Каждый школьник получит по ', k//n, \r\n",
        "      'яблок(-а/-у), а в корзинке останется ', k%n)"
      ],
      "execution_count": 7,
      "outputs": [
        {
          "output_type": "stream",
          "text": [
            "Количество школьников: 23\n",
            "Количество яблок: 50\n",
            "Каждый школьник получит по  2 яблок(-а/-у), а в корзинке останется  4\n"
          ],
          "name": "stdout"
        }
      ]
    },
    {
      "cell_type": "code",
      "metadata": {
        "colab": {
          "base_uri": "https://localhost:8080/"
        },
        "id": "YoLxfn1H-mrD",
        "outputId": "6aaabe05-7248-4046-9e8b-522930a25007"
      },
      "source": [
        "# Задача \"Электронные часы\"\r\n",
        "# Дано число n. С начала суток прошло n минут. Определите, сколько часов и минут\r\n",
        "# будут показывать электронные часы в этот момент.\r\n",
        "\r\n",
        "# функция добавляет \"0\" в часы/минуты, чтобы вне зависимости от числа было 2 цифры\r\n",
        "def clock_zero(n):\r\n",
        "    if n//60 < 10 and n%60 < 10:\r\n",
        "      print('Время: 0', n//60, ': 0', n%60)\r\n",
        "    elif n//60 < 10 and n%60 > 10:\r\n",
        "      print('Время: 0', n//60, ':', n%60)\r\n",
        "    elif n//60 > 10 and n%60 < 10:\r\n",
        "      print('Время: ', n//60, ': 0', n%60)\r\n",
        "    else:\r\n",
        "      print('Время: ', n//60, ':', n%60)\r\n",
        "\r\n",
        "\r\n",
        "n =  int(input('Прошло минут: '))\r\n",
        "\r\n",
        "# Определяем, сколько суток прошло и выводим время\r\n",
        "if n < 0:\r\n",
        "  print('Введите натуральное число либо 0!')\r\n",
        "else:\r\n",
        "  if n > 1439:\r\n",
        "    n_days = n//1439\r\n",
        "    n_min = n%1440\r\n",
        "    print('\\nПрошло суток: ', n_days)\r\n",
        "    clock_zero(n_min)\r\n",
        "  else:\r\n",
        "    clock_zero(n)"
      ],
      "execution_count": 25,
      "outputs": [
        {
          "output_type": "stream",
          "text": [
            "Прошло минут: 1499\n",
            "\n",
            "Прошло суток:  1\n",
            "Время: 0 0 : 59\n"
          ],
          "name": "stdout"
        }
      ]
    },
    {
      "cell_type": "code",
      "metadata": {
        "colab": {
          "base_uri": "https://localhost:8080/"
        },
        "id": "HxPV_1oZSxw_",
        "outputId": "3dfeadc9-9356-4f2f-a837-00f24929bc26"
      },
      "source": [
        "# Задача \"Hello, Harry!\"\r\n",
        "# Напишите программу, которая приветствует пользователя\r\n",
        "\r\n",
        "user_name = input('Enter your name: ')\r\n",
        "print('\\nHello, ', user_name, '!')"
      ],
      "execution_count": 28,
      "outputs": [
        {
          "output_type": "stream",
          "text": [
            "Enter your name: Donald Duck\n",
            "\n",
            "Hello,  Donald Duck !\n"
          ],
          "name": "stdout"
        }
      ]
    },
    {
      "cell_type": "code",
      "metadata": {
        "colab": {
          "base_uri": "https://localhost:8080/"
        },
        "id": "TKmIHWgfTncP",
        "outputId": "ba5715b1-57d4-4037-d9ee-6197158c0f0c"
      },
      "source": [
        "# Задача \"Следующее и предыдущее\"\r\n",
        "\r\n",
        "some_num = int(input('Введите целое число: '))\r\n",
        "print(some_num-1, ' > ', some_num, ' > ', some_num+1)"
      ],
      "execution_count": 34,
      "outputs": [
        {
          "output_type": "stream",
          "text": [
            "Введите целое число: 100000\n",
            "99999  >  100000  >  100001\n"
          ],
          "name": "stdout"
        }
      ]
    },
    {
      "cell_type": "code",
      "metadata": {
        "colab": {
          "base_uri": "https://localhost:8080/"
        },
        "id": "b_YIr-C_UjYi",
        "outputId": "6a6efcdc-67e4-48b5-8886-a60331677ad5"
      },
      "source": [
        "# Задача \"Парты\"\r\n",
        "# В школе решили набрать три новых математических класса. Так как занятия по\r\n",
        "# математке у них проходят в одно и то же время, было решено выделить кабинет\r\n",
        "# для каждого класса и купить в них новые парты. За каждой партой может сидеть\r\n",
        "# не больше двух учеников. Известно количество учащихся в каждом из трёх\r\n",
        "# классов. Сколько всего нужно закупить парт, чтобы их хватило на всех учеников?\r\n",
        "# Программа получает на вход три натуральных числа: количество учащихся в каждом\r\n",
        "# из трёх классов\r\n",
        "\r\n",
        "\r\n",
        "# Функция для счёта количества парт\r\n",
        "def desk_count(n):\r\n",
        "  if n%2 > 0:\r\n",
        "    desk_sum = 1+n//2\r\n",
        "  else:\r\n",
        "    desk_sum = n//2\r\n",
        "  return desk_sum\r\n",
        "\r\n",
        "\r\n",
        "first_class = int(input('Количество учащихся в первом кабинете: '))\r\n",
        "second_class = int(input('Количество учащихся во втором кабинете: '))\r\n",
        "third_class = int(input('Количество учащихся в третьем кабинете: '))\r\n",
        "\r\n",
        "# Проверка введённых данных, вывод суммы парт\r\n",
        "if first_class < 1 or second_class < 1 or third_class < 1:\r\n",
        "  print('В классе как минимум должен быть 1 ученик! - введите натуральные числа')\r\n",
        "else:\r\n",
        "  print('Нужно купить парт: ', desk_count(first_class)+desk_count(second_class)+\r\n",
        "        desk_count(third_class))"
      ],
      "execution_count": 46,
      "outputs": [
        {
          "output_type": "stream",
          "text": [
            "Количество учащихся в первом кабинете: 17\n",
            "Количество учащихся во втором кабинете: 21\n",
            "Количество учащихся в третьем кабинете: 10\n",
            "Нужно купить парт:  25\n"
          ],
          "name": "stdout"
        }
      ]
    },
    {
      "cell_type": "code",
      "metadata": {
        "colab": {
          "base_uri": "https://localhost:8080/"
        },
        "id": "Vofxinn0XupN",
        "outputId": "968e3626-5787-4ed3-84a1-02afe81580ae"
      },
      "source": [
        "# Задача \"Шнурки\"\r\n",
        "# Обувная фабрика собирается начать выпуск элитной модели ботинок. Дырочки для\r\n",
        "# шнуровки будут расположены в два ряда, расстояние между рядами равно a,\r\n",
        "# а расстояние между дырочками в ряду b. Количество дырочек в каждом ряду равно N.\r\n",
        "# Шнуровка должна происходить элитным способом “наверх, по горизонтали в другой\r\n",
        "# ряд, наверх, по горизонтали и т.д.” (см. рисунок). Кроме того, чтобы шнурки\r\n",
        "# можно было завязать элитным бантиком, длина свободного конца шнурка должна\r\n",
        "# быть l. Какова должна быть длина шнурка для этих ботинок?\r\n",
        "\r\n",
        "a = float(input('Расстояние между рядами (a): '))\r\n",
        "b = float(input('Расстояние между дырочками в ряду (b): '))\r\n",
        "N = int(input('Количество дырочек в ряду (N): '))\r\n",
        "l = float(input('Длина свободного конца шнурка (l): '))\r\n",
        "\r\n",
        "lace_length = (2*N-1)*a+(1*(N-1))*b+l*2\r\n",
        "print('Длина всего шнурка: ', lace_length)"
      ],
      "execution_count": 51,
      "outputs": [
        {
          "output_type": "stream",
          "text": [
            "Расстояние между рядами (a): 4.7\n",
            "Расстояние между дырочками в ряду (b): 1.2\n",
            "Количество дырочек в ряду (N): 6\n",
            "Длина свободного конца шнурка (l): 12\n",
            "Длина всего шнурка:  81.7\n"
          ],
          "name": "stdout"
        }
      ]
    },
    {
      "cell_type": "code",
      "metadata": {
        "id": "GaznJdEGeYyD"
      },
      "source": [
        ""
      ],
      "execution_count": null,
      "outputs": []
    }
  ]
}