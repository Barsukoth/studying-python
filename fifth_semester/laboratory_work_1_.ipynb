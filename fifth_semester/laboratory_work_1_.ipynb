{
  "nbformat": 4,
  "nbformat_minor": 0,
  "metadata": {
    "colab": {
      "name": "Алгоритм вычисления симметричности матриц.ipynb",
      "provenance": [],
      "authorship_tag": "ABX9TyNH4t+RY/ifMpEpw52MGvsr",
      "include_colab_link": true
    },
    "kernelspec": {
      "name": "python3",
      "display_name": "Python 3"
    }
  },
  "cells": [
    {
      "cell_type": "markdown",
      "metadata": {
        "id": "view-in-github",
        "colab_type": "text"
      },
      "source": [
        "<a href=\"https://colab.research.google.com/github/Barsukoth/studying-python/blob/main/fifth_semester/laboratory_work_1_.ipynb\" target=\"_parent\"><img src=\"https://colab.research.google.com/assets/colab-badge.svg\" alt=\"Open In Colab\"/></a>"
      ]
    },
    {
      "cell_type": "code",
      "metadata": {
        "id": "3Av2f46n3Yq1"
      },
      "source": [
        "import random\r\n",
        "\r\n",
        "\r\n",
        "N = int(input('Введите количество столбцов и строк: '))\r\n",
        "arr = []\r\n",
        "\r\n",
        "\r\n",
        "# Ввод матрицы\r\n",
        "for i in range(N):\r\n",
        "  arr_2 = [random.randint(0, 1) for i in range(N)]\r\n",
        "  arr.append(arr_2)\r\n",
        "\r\n",
        "# Вывод матрицы\r\n",
        "for i in range(N):\r\n",
        "  for j in range(N):\r\n",
        "    print(arr[i][j], end = ' ')\r\n",
        "  print()\r\n",
        "\r\n",
        "# Проверка симметричных элементов\r\n",
        "for i in range(N):\r\n",
        "  for j in range(N):\r\n",
        "    if arr[i][j] == arr[j][i]:\r\n",
        "      sm_err += 0\r\n",
        "    else:\r\n",
        "      sm_err += 1\r\n",
        "\r\n",
        "# Вывод результата\r\n",
        "if sm_err == 0:\r\n",
        "  print('\\nМатрица является симметричной относительно главной диагонали.')\r\n",
        "else:\r\n",
        "  print('\\nМатрица несимметрична.')"
      ],
      "execution_count": null,
      "outputs": []
    }
  ]
}