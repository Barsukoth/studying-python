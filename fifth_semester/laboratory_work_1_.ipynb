{
  "nbformat": 4,
  "nbformat_minor": 0,
  "metadata": {
    "colab": {
      "name": "Алгоритм вычисления симметричности матриц.ipynb",
      "provenance": [],
      "authorship_tag": "ABX9TyP4HdOZj2tuL+BmrMkqahx+",
      "include_colab_link": true
    },
    "kernelspec": {
      "name": "python3",
      "display_name": "Python 3"
    }
  },
  "cells": [
    {
      "cell_type": "markdown",
      "metadata": {
        "id": "view-in-github",
        "colab_type": "text"
      },
      "source": [
        "<a href=\"https://colab.research.google.com/github/Barsukoth/studying-python/blob/main/fifth_semester/laboratory_work_1_.ipynb\" target=\"_parent\"><img src=\"https://colab.research.google.com/assets/colab-badge.svg\" alt=\"Open In Colab\"/></a>"
      ]
    },
    {
      "cell_type": "code",
      "metadata": {
        "id": "3Av2f46n3Yq1",
        "colab": {
          "base_uri": "https://localhost:8080/",
          "height": 299
        },
        "outputId": "dfaf8c34-f14f-4e0e-aad5-241948fd1a6f"
      },
      "source": [
        "# Дана квадратная вещественная матрица размерности n\r\n",
        "# Является ли матрица симметричной относительно главной диагонали\r\n",
        "\r\n",
        "import random\r\n",
        "\r\n",
        "\r\n",
        "N = int(input('Введите количество столбцов и строк: '))\r\n",
        "arr = []\r\n",
        "sm_err = 0\r\n",
        "\r\n",
        "# Ввод матрицы\r\n",
        "for i in range(N):\r\n",
        "  arr_2 = [random.randint(0, 1) for i in range(N)]\r\n",
        "  arr.append(arr_2)\r\n",
        "\r\n",
        "# Вывод матрицы\r\n",
        "for i in range(N):\r\n",
        "  for j in range(N):\r\n",
        "    print(arr[i][j], end = ' ')\r\n",
        "  print()\r\n",
        "\r\n",
        "# Проверка симметричных элементов\r\n",
        "for i in range(N):\r\n",
        "  for j in range(N):\r\n",
        "    if arr[i][j] == arr[j][i]:\r\n",
        "      sm_err += 0\r\n",
        "    else:\r\n",
        "      sm_err += 1\r\n",
        "\r\n",
        "# Вывод результата\r\n",
        "if sm_err == 0:\r\n",
        "  print('\\nМатрица является симметричной относительно главной диагонали.')\r\n",
        "else:\r\n",
        "  print('\\nМатрица несимметрична.')"
      ],
      "execution_count": 1,
      "outputs": [
        {
          "output_type": "stream",
          "text": [
            "Введите количество столбцов и строк: 3\n",
            "1 0 0 \n",
            "0 1 1 \n",
            "1 1 0 \n"
          ],
          "name": "stdout"
        },
        {
          "output_type": "error",
          "ename": "NameError",
          "evalue": "ignored",
          "traceback": [
            "\u001b[0;31m---------------------------------------------------------------------------\u001b[0m",
            "\u001b[0;31mNameError\u001b[0m                                 Traceback (most recent call last)",
            "\u001b[0;32m<ipython-input-1-58433306bcfc>\u001b[0m in \u001b[0;36m<module>\u001b[0;34m()\u001b[0m\n\u001b[1;32m     24\u001b[0m   \u001b[0;32mfor\u001b[0m \u001b[0mj\u001b[0m \u001b[0;32min\u001b[0m \u001b[0mrange\u001b[0m\u001b[0;34m(\u001b[0m\u001b[0mN\u001b[0m\u001b[0;34m)\u001b[0m\u001b[0;34m:\u001b[0m\u001b[0;34m\u001b[0m\u001b[0;34m\u001b[0m\u001b[0m\n\u001b[1;32m     25\u001b[0m     \u001b[0;32mif\u001b[0m \u001b[0marr\u001b[0m\u001b[0;34m[\u001b[0m\u001b[0mi\u001b[0m\u001b[0;34m]\u001b[0m\u001b[0;34m[\u001b[0m\u001b[0mj\u001b[0m\u001b[0;34m]\u001b[0m \u001b[0;34m==\u001b[0m \u001b[0marr\u001b[0m\u001b[0;34m[\u001b[0m\u001b[0mj\u001b[0m\u001b[0;34m]\u001b[0m\u001b[0;34m[\u001b[0m\u001b[0mi\u001b[0m\u001b[0;34m]\u001b[0m\u001b[0;34m:\u001b[0m\u001b[0;34m\u001b[0m\u001b[0;34m\u001b[0m\u001b[0m\n\u001b[0;32m---> 26\u001b[0;31m       \u001b[0msm_err\u001b[0m \u001b[0;34m+=\u001b[0m \u001b[0;36m0\u001b[0m\u001b[0;34m\u001b[0m\u001b[0;34m\u001b[0m\u001b[0m\n\u001b[0m\u001b[1;32m     27\u001b[0m     \u001b[0;32melse\u001b[0m\u001b[0;34m:\u001b[0m\u001b[0;34m\u001b[0m\u001b[0;34m\u001b[0m\u001b[0m\n\u001b[1;32m     28\u001b[0m       \u001b[0msm_err\u001b[0m \u001b[0;34m+=\u001b[0m \u001b[0;36m1\u001b[0m\u001b[0;34m\u001b[0m\u001b[0;34m\u001b[0m\u001b[0m\n",
            "\u001b[0;31mNameError\u001b[0m: name 'sm_err' is not defined"
          ]
        }
      ]
    }
  ]
}