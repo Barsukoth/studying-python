{
  "nbformat": 4,
  "nbformat_minor": 0,
  "metadata": {
    "colab": {
      "name": "Лаб. работы Python 5-ый семестр, Барсуков А. группа 1231.ipynb",
      "provenance": [],
      "collapsed_sections": [],
      "toc_visible": true,
      "authorship_tag": "ABX9TyMeBcvTyTJeBq7gcN/0s0Wz",
      "include_colab_link": true
    },
    "kernelspec": {
      "name": "python3",
      "display_name": "Python 3"
    }
  },
  "cells": [
    {
      "cell_type": "markdown",
      "metadata": {
        "id": "view-in-github",
        "colab_type": "text"
      },
      "source": [
        "<a href=\"https://colab.research.google.com/github/Barsukoth/studying/blob/python/laboratory_work_fifth_semester.ipynb\" target=\"_parent\"><img src=\"https://colab.research.google.com/assets/colab-badge.svg\" alt=\"Open In Colab\"/></a>"
      ]
    },
    {
      "cell_type": "markdown",
      "metadata": {
        "id": "GCdw8JqNhNMW"
      },
      "source": [
        "# Лабораторная работа 1\r\n",
        "Введение в язык программирования Python\r\n"
      ]
    },
    {
      "cell_type": "code",
      "metadata": {
        "id": "eTRyhHIdAUHj",
        "colab": {
          "base_uri": "https://localhost:8080/"
        },
        "outputId": "76c1236e-6e6d-4602-a89e-fe16de98a2c8"
      },
      "source": [
        "# Вариант 6\n",
        "\n",
        "personName = input('Ваше имя? ')\n",
        "favoriteSubject = input('Какой Ваш любимый предмет в школе? ')\n",
        "studiesAt = int(input('В каком классе Вы учитесь? (Вводить только целые числа!) '))\n",
        "\n",
        "print()\n",
        "print('Ваше имя:', personName)\n",
        "print('Ваш любимый предмет в школе:', favoriteSubject)\n",
        "print('Вы учитесь в классе номер', studiesAt)\n"
      ],
      "execution_count": null,
      "outputs": [
        {
          "output_type": "stream",
          "text": [
            "Ваше имя? Андрей\n",
            "Какой Ваш любимый предмет в школе? Биология\n",
            "В каком классе Вы учитесь? (Вводить только целые числа!) 8\n",
            "\n",
            "Ваше имя: Андрей\n",
            "Ваш любимый предмет в школе: Биология\n",
            "Вы учитесь в классе номер 8\n"
          ],
          "name": "stdout"
        }
      ]
    },
    {
      "cell_type": "markdown",
      "metadata": {
        "id": "9DsjprxXhYOx"
      },
      "source": [
        "# Лабораторная работа 2\r\n",
        " Математические операции в Python"
      ]
    },
    {
      "cell_type": "markdown",
      "metadata": {
        "id": "zHo5R1W5GLTI"
      },
      "source": [
        "\n",
        "x = 1,13; y = -5,75; z = 2,2\n",
        "\n",
        "\n",
        "\n",
        "\n",
        "\n"
      ]
    },
    {
      "cell_type": "code",
      "metadata": {
        "id": "gj-sy5kZK-i8",
        "colab": {
          "base_uri": "https://localhost:8080/"
        },
        "outputId": "40cf8be5-83f7-44df-ce9b-ff2040dac0e8"
      },
      "source": [
        "# Задание №1. Формула кинетической энергии.\n",
        "\n",
        "# Было интересно сделать определение и перевод единицы измерения скорости, поэтому пользовался условным оператором,\n",
        "# с которыми нас знакомили ещё в на втором курсе на предмете \"Основы программирования и алгоритмизации\" (да и в школе чет тоже ковырялись в Pascal'е)\n",
        "\n",
        "haveError = 0 # Наличие ошибок: нет\n",
        "m = int(input('Масса тела (кг): '))\n",
        "vDef = int(input('Скорость будет в: км/ч - 1; м/с - 0? ')) # Определение единицы измерения скорости\n",
        "\n",
        "if vDef == 0: # Проверка единицы измерения скорости\n",
        "  v = float(input('Скорость тела (м/с): '))\n",
        "elif vDef == 1:\n",
        "  vKm = int(input('Скорость тела (км/ч): '))\n",
        "  v = vKm * 1000 / 3600 # Переводим км/ч в м/с\n",
        "  print ('Скорость тела по СИ: {0:.2f}'.format(v))\n",
        "else: \n",
        "  haveError = 1\n",
        "\n",
        "if haveError == 0: # Проверка на наличие ошибок\n",
        "  Ek = (m * v ** 2) / 2 # формула кинетической энергии\n",
        "  print()\n",
        "  print('Кинетическая энергия тела: {0:.4f}'.format(Ek))\n",
        "else:\n",
        "  print()\n",
        "  print('Ошибка: Вы ввели неверное значение для определения единицы измерения скорости.')"
      ],
      "execution_count": 2,
      "outputs": [
        {
          "output_type": "stream",
          "text": [
            "Масса тела (кг): 61\n",
            "Скорость будет в: км/ч - 1; м/с - 0? 1\n",
            "Скорость тела (км/ч): 20\n",
            "Скорость тела по СИ: 5.56\n",
            "\n",
            "Кинетическая энергия тела: 941.3580\n"
          ],
          "name": "stdout"
        }
      ]
    },
    {
      "cell_type": "code",
      "metadata": {
        "id": "MXoqnBJqOQlG",
        "colab": {
          "base_uri": "https://localhost:8080/"
        },
        "outputId": "40430578-bf2e-4fc1-f469-8fdfa0fefde0"
      },
      "source": [
        "# Задание №2. Работа с тригонометрическими функциями.\n",
        "# Вариант 6\n",
        "\n",
        "import math\n",
        "\n",
        "x = float(1.13)\n",
        "y = float(-5.75)\n",
        "z = float(2.2)\n",
        "cosX = math.cos(x)\n",
        "sinY = math.sin(y)\n",
        "tgZ = math.tan(z)\n",
        "\n",
        "print('x =', x)\n",
        "print('y =', y)\n",
        "print('z =', z)\n",
        "print()\n",
        "print('cos(x) = {0:.3f}'.format(cosX))\n",
        "print('sin(y) = {0:.3f}'.format(sinY))\n",
        "print('tg(z) = {0:.3f}'.format(tgZ))\n"
      ],
      "execution_count": 3,
      "outputs": [
        {
          "output_type": "stream",
          "text": [
            "x = 1.13\n",
            "y = -5.75\n",
            "z = 2.2\n",
            "\n",
            "cos(x) = 0.427\n",
            "sin(y) = 0.508\n",
            "tg(z) = -1.374\n"
          ],
          "name": "stdout"
        }
      ]
    },
    {
      "cell_type": "markdown",
      "metadata": {
        "id": "T20Z0-Agdeki"
      },
      "source": [
        "# Лабораторная работа 3\r\n",
        "Структура ветвление в Python"
      ]
    },
    {
      "cell_type": "code",
      "metadata": {
        "colab": {
          "base_uri": "https://localhost:8080/"
        },
        "id": "hsjh6-wte-wd",
        "outputId": "3a8d76d4-c709-44c5-da2e-49673b4beb00"
      },
      "source": [
        "# Вывести на экран синус максимального из 3 заданных чисел\r\n",
        "# Вариант 6\r\n",
        "\r\n",
        "import math\r\n",
        "\r\n",
        "haveError = 0\r\n",
        "\r\n",
        "print('Введите 3 числа: ')\r\n",
        "a = int(input())\r\n",
        "b = int(input())\r\n",
        "c = int(input())\r\n",
        "print()\r\n",
        "print('Поиск максимального числа и вычисление синуса...')\r\n",
        "\r\n",
        "# В случае введённых двух и более максимальных чисел, будет выведено первое введённое\r\n",
        "if a >= b and a >= c:\r\n",
        "  sinNum = math.sin(a)\r\n",
        "  maxNum = a\r\n",
        "elif b >= a and b >= c:\r\n",
        "  sinNum = math.sin(b)\r\n",
        "  maxNum = b\r\n",
        "elif c >= a and c >= b:\r\n",
        "  sinNum = math.sin(c)\r\n",
        "  maxNum = c\r\n",
        "else:\r\n",
        "  haveError = 1\r\n",
        "\r\n",
        "if haveError == 0:\r\n",
        "  print('Sin(', maxNum, ') = {0:.3f}'.format(sinNum))\r\n",
        "else:\r\n",
        "  print('Возникла ошибка, повторите попытку.')"
      ],
      "execution_count": 20,
      "outputs": [
        {
          "output_type": "stream",
          "text": [
            "Введите 3 числа: \n",
            "75\n",
            "-30\n",
            "30\n",
            "\n",
            "Поиск максимального числа и вычисление синуса...\n",
            "Sin( 75 ) = -0.388\n"
          ],
          "name": "stdout"
        }
      ]
    }
  ]
}